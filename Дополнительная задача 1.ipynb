{
 "cells": [
  {
   "cell_type": "code",
   "execution_count": 54,
   "metadata": {},
   "outputs": [],
   "source": [
    "using HorizonSideRobots\n",
    "using PyPlot; pygui(true)\n",
    "h = 10\n",
    "w = 10\n",
    "r = Robot(h, w)\n",
    "show!(r)"
   ]
  },
  {
   "cell_type": "code",
   "execution_count": 55,
   "metadata": {},
   "outputs": [
    {
     "name": "stderr",
     "output_type": "stream",
     "text": [
      "┌ Warning: Окно с предыдущей обстановкой при открытии нового было автоматически закрыто\n",
      "└ @ HorizonSideRobots C:\\Users\\polya\\.julia\\packages\\HorizonSideRobots\\UumzG\\src\\HorizonSideRobots.jl:187\n"
     ]
    },
    {
     "data": {
      "image/png": "[encoded data removed]",
      "text/plain": [
       "Figure(PyObject <Figure size 700x680 with 1 Axes>)"
      ]
     },
     "execution_count": 55,
     "metadata": {},
     "output_type": "execute_result"
    }
   ],
   "source": [
    "show(r)"
   ]
  },
  {
   "cell_type": "code",
   "execution_count": 56,
   "metadata": {},
   "outputs": [
    {
     "name": "stdout",
     "output_type": "stream",
     "text": [
      "Вне лабиринта\n"
     ]
    }
   ],
   "source": [
    "visited = falses(2*w, 2*h)\n",
    "x, y = w, h\n",
    "dx = [0, -1, 0, 1]\n",
    "dy = [1, 0, -1, 0]\n",
    "\n",
    "function to_side(dif_x, dif_y)\n",
    "    if dif_x == 0 && dif_y == 1 \n",
    "        return Nord\n",
    "    elseif dif_x == -1 && dif_y == 0\n",
    "        return West\n",
    "    elseif dif_x == 0 && dif_y == -1\n",
    "        return Sud\n",
    "    elseif dif_x == 1 && dif_y == 0\n",
    "        return Ost\n",
    "    end\n",
    "end\n",
    "\n",
    "function inverse_side(side)\n",
    "    return HorizonSide(((Int(side)) + 2) % 4)\n",
    "end\n",
    "\n",
    "function dfs(r, x, y)\n",
    "    if visited[x, y]\n",
    "        return\n",
    "    end\n",
    "    visited[x, y] = true\n",
    "    for (difx, dify) in zip(dx, dy)\n",
    "        nx, ny = x+difx, y+dify\n",
    "        if (nx > 0 && nx <= 2*w && ny > 0 && ny <= 2*h)\n",
    "            side = to_side(difx, dify)\n",
    "            if(!visited[nx, ny] && !isborder(r, side))\n",
    "                side = to_side(difx, dify)\n",
    "                move!(r, side)\n",
    "                dfs(r, nx, ny)\n",
    "                move!(r, inverse_side(side))\n",
    "            end\n",
    "        end\n",
    "    end\n",
    "end\n",
    "\n",
    "function in_labyrinth(r, x, y)\n",
    "    dfs(r, x, y)\n",
    "    count = 0\n",
    "    for i = 1:(2*h)\n",
    "        for j = 1:(2*w)\n",
    "            if visited[j, i]\n",
    "                count += 1\n",
    "            end\n",
    "        end\n",
    "    end\n",
    "    return count < 2*h*w\n",
    "end\n",
    "\n",
    "if in_labyrinth(r, w, h)\n",
    "    println(\"В лабиринте\")\n",
    "else\n",
    "    println(\"Вне лабиринта\")\n",
    "end"
   ]
  }
 ],
 "metadata": {
  "kernelspec": {
   "display_name": "Julia 1.5.3",
   "language": "julia",
   "name": "julia-1.5"
  },
  "language_info": {
   "file_extension": ".jl",
   "mimetype": "application/julia",
   "name": "julia",
   "version": "1.5.3"
  }
 },
 "nbformat": 4,
 "nbformat_minor": 4
}
