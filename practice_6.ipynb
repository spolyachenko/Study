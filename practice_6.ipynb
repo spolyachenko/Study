{
 "cells": [
  {
   "cell_type": "code",
   "execution_count": 8,
   "metadata": {},
   "outputs": [],
   "source": [
    "using HorizonSideRobots\n",
    "using PyPlot; pygui(true)\n",
    "h, w = 10, 10\n",
    "r = Robot(h, w)\n",
    "show!(r)"
   ]
  },
  {
   "cell_type": "code",
   "execution_count": 9,
   "metadata": {},
   "outputs": [
    {
     "name": "stderr",
     "output_type": "stream",
     "text": [
      "┌ Warning: Окно с предыдущей обстановкой при открытии нового было автоматически закрыто\n",
      "└ @ HorizonSideRobots C:\\Users\\slava\\.julia\\packages\\HorizonSideRobots\\tWWme\\src\\HorizonSideRobots.jl:186\n"
     ]
    },
    {
     "data": {
      "image/png": "[encoded data removed]",
      "text/plain": [
       "Figure(PyObject <Figure size 700x680 with 1 Axes>)"
      ]
     },
     "execution_count": 9,
     "metadata": {},
     "output_type": "execute_result"
    }
   ],
   "source": [
    "show(r)"
   ]
  },
  {
   "cell_type": "code",
   "execution_count": 10,
   "metadata": {},
   "outputs": [],
   "source": [
    "path = []\n",
    "\n",
    "function do_it(side::HorizonSide, a::Int64)\n",
    "    res = [mod(Int(side)+2, 4) for i in (1:a)]\n",
    "    return res\n",
    "end\n",
    "\n",
    "function inverse(side)\n",
    "    return HorizonSide(mod(Int(side)+2, 4))\n",
    "end\n",
    "\n",
    "function check(side)\n",
    "    return isborder(r, side)\n",
    "end\n",
    "\n",
    "function check_inv(side)\n",
    "    return !isborder(r, side)\n",
    "end\n",
    "\n",
    "function move_till_border(f, g, r, direction_side, check_side)\n",
    "    a = 0\n",
    "    b = false\n",
    "    while !isborder(r, direction_side)\n",
    "        move!(r, direction_side)\n",
    "        a += 1\n",
    "        g(r)\n",
    "        if f(check_side)\n",
    "            b = true\n",
    "            break\n",
    "        end\n",
    "    end\n",
    "    return (a, b)\n",
    "end\n",
    "\n",
    "function go_back(r, a)\n",
    "    for side in a\n",
    "        move!(r, HorizonSide(side))\n",
    "    end\n",
    "end\n",
    "\n",
    "nth(x) = false\n",
    "\n",
    "append!(path, do_it(Sud, move_till_border(nth, nth, r, Sud, Nord)[1]))\n",
    "append!(path, do_it(West, move_till_border(nth, nth, r, West, Ost)[1]))\n",
    "append!(path, do_it(Sud, move_till_border(nth, nth, r, Sud, Nord)[1]))\n",
    "\n",
    "side = Nord\n",
    "flag = move_till_border(check, nth, r, side, Ost)[2]\n",
    "\n",
    "while !flag\n",
    "    side = inverse(side)\n",
    "    move!(r, Ost)\n",
    "    flag = move_till_border(check, nth, r, side, Ost)[2]\n",
    "end\n",
    "\n",
    "\n",
    "putmarker!(r)\n",
    "move_till_border(check_inv, putmarker!, r, side, Ost)\n",
    "move!(r, Ost)\n",
    "\n",
    "putmarker!(r)\n",
    "move_till_border(check_inv, putmarker!, r, Ost, inverse(side))\n",
    "move!(r, inverse(side))\n",
    "\n",
    "putmarker!(r)\n",
    "move_till_border(check_inv, putmarker!, r, inverse(side), West)\n",
    "move!(r, West)\n",
    "\n",
    "putmarker!(r)\n",
    "move_till_border(check_inv, putmarker!, r, West, side)\n",
    "move!(r, side)\n",
    "\n",
    "move_till_border(nth, nth, r, Sud, Nord)\n",
    "move_till_border(nth, nth, r, West, Ost)\n",
    "move_till_border(nth, nth, r, Sud, Nord)\n",
    "\n",
    "go_back(r, reverse(path))\n"
   ]
  },
  {
   "cell_type": "code",
   "execution_count": 11,
   "metadata": {},
   "outputs": [
    {
     "name": "stderr",
     "output_type": "stream",
     "text": [
      "┌ Warning: Окно с предыдущей обстановкой при открытии нового было автоматически закрыто\n",
      "└ @ HorizonSideRobots C:\\Users\\slava\\.julia\\packages\\HorizonSideRobots\\tWWme\\src\\HorizonSideRobots.jl:186\n"
     ]
    },
    {
     "data": {
      "image/png": "[encoded data removed]",
      "text/plain": [
       "Figure(PyObject <Figure size 700x680 with 1 Axes>)"
      ]
     },
     "execution_count": 11,
     "metadata": {},
     "output_type": "execute_result"
    }
   ],
   "source": [
    "show(r)"
   ]
  }
 ],
 "metadata": {
  "kernelspec": {
   "display_name": "Julia 1.5.2",
   "language": "julia",
   "name": "julia-1.5"
  },
  "language_info": {
   "file_extension": ".jl",
   "mimetype": "application/julia",
   "name": "julia",
   "version": "1.5.2"
  }
 },
 "nbformat": 4,
 "nbformat_minor": 4
}
