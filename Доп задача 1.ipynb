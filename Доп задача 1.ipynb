{
 "cells": [
  {
   "cell_type": "code",
   "execution_count": 73,
   "metadata": {},
   "outputs": [],
   "source": [
    "using HorizonSideRobots\n",
    "using PyPlot; pygui(true)\n",
    "h = 10\n",
    "w = 10\n",
    "r = Robot(h, w)\n",
    "show!(r)"
   ]
  },
  {
   "cell_type": "code",
   "execution_count": 74,
   "metadata": {},
   "outputs": [
    {
     "name": "stderr",
     "output_type": "stream",
     "text": [
      "┌ Warning: Окно с предыдущей обстановкой при открытии нового было автоматически закрыто\n",
      "└ @ HorizonSideRobots C:\\Users\\AlexandrovaNV\\.julia\\packages\\HorizonSideRobots\\UumzG\\src\\HorizonSideRobots.jl:187\n"
     ]
    },
    {
     "data": {
      "image/png": "[encoded data removed]",
      "text/plain": [
       "Figure(PyObject <Figure size 700x680 with 1 Axes>)"
      ]
     },
     "execution_count": 74,
     "metadata": {},
     "output_type": "execute_result"
    }
   ],
   "source": [
    "show(r)"
   ]
  },
  {
   "cell_type": "code",
   "execution_count": 75,
   "metadata": {},
   "outputs": [
    {
     "name": "stdout",
     "output_type": "stream",
     "text": [
      "Внутри лабиринта\n"
     ]
    }
   ],
   "source": [
    "count = 0\n",
    "visited = Set()\n",
    "borders = Set()\n",
    "x, y = 0, 0\n",
    "\n",
    "function side_to_diff(side)\n",
    "    if Int(side) == 0\n",
    "        return 0, 1\n",
    "    elseif Int(side) == 1\n",
    "        return -1, 0\n",
    "    elseif Int(side) == 2\n",
    "        return 0, -1\n",
    "    elseif Int(side) == 3\n",
    "        return 1, 0\n",
    "    end\n",
    "end\n",
    "\n",
    "function next_side(side)\n",
    "    return HorizonSide((Int(side) + 1) % 4)\n",
    "end\n",
    "function prev_side(side)\n",
    "    return HorizonSide((Int(side) + 3) % 4)\n",
    "end\n",
    "\n",
    "function check(r)\n",
    "    global count\n",
    "    if ismarker(r)\n",
    "        count += 1\n",
    "        if count == 2\n",
    "            return true\n",
    "        end\n",
    "    end\n",
    "    return false\n",
    "end\n",
    "\n",
    "function fill_borders(r)\n",
    "    global x, y, borders\n",
    "    for side in [Nord, West, Sud, Ost]\n",
    "        if isborder(r, side)\n",
    "            dx, dy = side_to_diff(side)\n",
    "            push!(borders, Pair(x + dx, y + dy))\n",
    "        end\n",
    "    end\n",
    "end\n",
    "\n",
    "function moves(r, move_side, check_side)\n",
    "    global x, y, visited, borders\n",
    "    \n",
    "    while !isborder(r, move_side) && isborder(r, check_side)\n",
    "        move!(r, move_side)\n",
    "        dx, dy = side_to_diff(move_side)\n",
    "        x += dx\n",
    "        y += dy\n",
    "        fill_borders(r)\n",
    "        push!(visited, Pair(x, y))\n",
    "        if check(r)\n",
    "            return\n",
    "        end\n",
    "    end\n",
    "    \n",
    "    if !isborder(r, check_side)\n",
    "        move!(r, check_side)\n",
    "        dx, dy = side_to_diff(check_side)\n",
    "        x += dx\n",
    "        y += dy\n",
    "        fill_borders(r)\n",
    "        push!(visited, Pair(x, y))\n",
    "        if check(r)\n",
    "            return\n",
    "        end\n",
    "        moves(r, next_side(move_side), next_side(check_side))\n",
    "    elseif isborder(r, move_side)\n",
    "        moves(r, prev_side(move_side), prev_side(check_side))\n",
    "    end\n",
    "end\n",
    "\n",
    "function solve(r)\n",
    "    global visited, borders, x, y\n",
    "    \n",
    "    push!(visited, Pair(x, y))\n",
    "    check_side, move_side = Nord, Nord\n",
    "    for side in [Nord, West, Sud, Ost]\n",
    "        if isborder(r, side)\n",
    "            check_side = side\n",
    "            move_side = prev_side(side)\n",
    "            break\n",
    "        end\n",
    "    end\n",
    "    putmarker!(r)\n",
    "    moves(r, move_side, check_side)\n",
    "    \n",
    "    setdiff!(borders, visited)\n",
    "    \n",
    "    a = length(borders)\n",
    "    b = length(visited)\n",
    "    if b > a\n",
    "        println(\"Снаружи лабиринта\")\n",
    "    else\n",
    "        println(\"Внутри лабиринта\")\n",
    "    end\n",
    "end\n",
    "\n",
    "solve(r)"
   ]
  }
 ],
 "metadata": {
  "kernelspec": {
   "display_name": "Julia 1.5.3",
   "language": "julia",
   "name": "julia-1.5"
  },
  "language_info": {
   "file_extension": ".jl",
   "mimetype": "application/julia",
   "name": "julia",
   "version": "1.5.3"
  }
 },
 "nbformat": 4,
 "nbformat_minor": 4
}
