{
 "cells": [
  {
   "cell_type": "code",
   "execution_count": 12,
   "metadata": {},
   "outputs": [],
   "source": [
    "using HorizonSideRobots\n",
    "using PyPlot; pygui(true)\n",
    "h, w = 11, 11\n",
    "r = Robot(h, w)\n",
    "show!(r)\n",
    "South = Sud;\n",
    "North = Nord;\n",
    "East = Ost;"
   ]
  },
  {
   "cell_type": "code",
   "execution_count": 13,
   "metadata": {},
   "outputs": [
    {
     "name": "stderr",
     "output_type": "stream",
     "text": [
      "┌ Warning: Окно с предыдущей обстановкой при открытии нового было автоматически закрыто\n",
      "└ @ HorizonSideRobots C:\\Users\\slava\\.julia\\packages\\HorizonSideRobots\\tWWme\\src\\HorizonSideRobots.jl:186\n"
     ]
    },
    {
     "data": {
      "image/png": "[encoded data removed]",
      "text/plain": [
       "Figure(PyObject <Figure size 700x680 with 1 Axes>)"
      ]
     },
     "execution_count": 13,
     "metadata": {},
     "output_type": "execute_result"
    }
   ],
   "source": [
    "show(r)"
   ]
  },
  {
   "cell_type": "code",
   "execution_count": 14,
   "metadata": {},
   "outputs": [
    {
     "data": {
      "text/plain": [
       "mean_temperature (generic function with 1 method)"
      ]
     },
     "execution_count": 14,
     "metadata": {},
     "output_type": "execute_result"
    }
   ],
   "source": [
    "function move_and_count(r, side)\n",
    "    sum_of_temp = 0\n",
    "    num_of_temp = 0\n",
    "    if(ismarker(r))\n",
    "        sum_of_temp += temperature(r)\n",
    "        num_of_temp += 1\n",
    "    end\n",
    "    while !isborder(r, side)\n",
    "        move!(r, side)\n",
    "        if(ismarker(r))\n",
    "            sum_of_temp += temperature(r)\n",
    "            num_of_temp += 1\n",
    "        end\n",
    "    end\n",
    "    return sum_of_temp, num_of_temp\n",
    "end\n",
    "\n",
    "function move_till_border(r, side)\n",
    "    while !isborder(r, side)\n",
    "        move!(r, side)\n",
    "    end\n",
    "end\n",
    "\n",
    "function mean_temperature(r)\n",
    "    total_temp = 0\n",
    "    total_marked = 0\n",
    "    while(!isborder(r, North))\n",
    "        a, b = move_and_count(r, East)\n",
    "        total_temp += a\n",
    "        total_marked += b\n",
    "        move_till_border(r, West)\n",
    "        move!(r, North)\n",
    "    end\n",
    "    a, b = move_and_count(r, East)\n",
    "    total_temp += a\n",
    "    total_marked += b\n",
    "    move_till_border(r, West)\n",
    "    return total_temp/total_marked\n",
    "end"
   ]
  },
  {
   "cell_type": "code",
   "execution_count": 15,
   "metadata": {},
   "outputs": [
    {
     "data": {
      "text/plain": [
       "71.85714285714286"
      ]
     },
     "execution_count": 15,
     "metadata": {},
     "output_type": "execute_result"
    }
   ],
   "source": [
    "mean_temperature(r)"
   ]
  }
 ],
 "metadata": {
  "kernelspec": {
   "display_name": "Julia 1.5.2",
   "language": "julia",
   "name": "julia-1.5"
  },
  "language_info": {
   "file_extension": ".jl",
   "mimetype": "application/julia",
   "name": "julia",
   "version": "1.5.2"
  }
 },
 "nbformat": 4,
 "nbformat_minor": 4
}
